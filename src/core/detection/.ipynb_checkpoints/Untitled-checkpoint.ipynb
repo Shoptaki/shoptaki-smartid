{
 "cells": [
  {
   "cell_type": "code",
   "execution_count": 1,
   "id": "f5b6e40a",
   "metadata": {
    "scrolled": true
   },
   "outputs": [],
   "source": [
    "import cv2\n",
    "import mediapipe as mp\n",
    "from IPython.display import display, Image, clear_output"
   ]
  },
  {
   "cell_type": "code",
   "execution_count": 2,
   "id": "7e1de5b0",
   "metadata": {},
   "outputs": [],
   "source": [
    "def show_live_video():\n",
    "    mp_face_detection = mp.solutions.face_detection\n",
    "    mp_drawing = mp.solutions.drawing_utils\n",
    "\n",
    "    cap = cv2.VideoCapture(0)\n",
    "\n",
    "    if not cap.isOpened():\n",
    "        print(\"Error: Unable to access the webcam.\")\n",
    "        return\n",
    "\n",
    "    with mp_face_detection.FaceDetection(model_selection=0, min_detection_confidence=0.2) as face_detection:\n",
    "        try:\n",
    "            while cap.isOpened():\n",
    "                ret, frame = cap.read()\n",
    "                if not ret:\n",
    "                    print(\"Error: Failed to capture image.\")\n",
    "                    break\n",
    "\n",
    "                frame_rgb = cv2.cvtColor(frame, cv2.COLOR_BGR2RGB)\n",
    "\n",
    "                results = face_detection.process(frame_rgb)\n",
    "\n",
    "                if results.detections:\n",
    "                    for detection in results.detections:\n",
    "                        mp_drawing.draw_detection(frame, detection)\n",
    "\n",
    "                clear_output(wait=True)\n",
    "                display(Image(data=cv2.imencode('.jpg', frame)[1].tobytes()))\n",
    "\n",
    "        except KeyboardInterrupt:\n",
    "            cap.release()\n",
    "            cv2.destroyAllWindows()"
   ]
  },
  {
   "cell_type": "code",
   "execution_count": null,
   "id": "07b0f786",
   "metadata": {},
   "outputs": [],
   "source": [
    "show_live_video()"
   ]
  }
 ],
 "metadata": {
  "kernelspec": {
   "display_name": "Python (environment)",
   "language": "python",
   "name": "myenv"
  },
  "language_info": {
   "codemirror_mode": {
    "name": "ipython",
    "version": 3
   },
   "file_extension": ".py",
   "mimetype": "text/x-python",
   "name": "python",
   "nbconvert_exporter": "python",
   "pygments_lexer": "ipython3",
   "version": "3.12.4"
  },
  "vscode": {
   "interpreter": {
    "hash": "31f2aee4e71d21fbe5cf8b01ff0e069b9275f58929596ceb00d14d90e3e16cd6"
   }
  }
 },
 "nbformat": 4,
 "nbformat_minor": 5
}
